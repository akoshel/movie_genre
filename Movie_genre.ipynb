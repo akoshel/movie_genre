{
 "cells": [
  {
   "cell_type": "code",
   "execution_count": 91,
   "metadata": {},
   "outputs": [],
   "source": [
    "import pandas as pd\n",
    "import numpy as np\n",
    "import spacy\n",
    "from nltk.stem.snowball import SnowballStemmer\n",
    "from nltk.stem import WordNetLemmatizer\n",
    "import re\n",
    "from sklearn.svm import LinearSVC\n",
    "from sklearn.feature_extraction.text import TfidfVectorizer, CountVectorizer\n",
    "from sklearn.model_selection import cross_val_score, train_test_split\n",
    "from sklearn.pipeline import Pipeline\n",
    "from sklearn.linear_model import LogisticRegression\n",
    "from sklearn.metrics import f1_score, precision_score, recall_score\n",
    "from sklearn.decomposition import TruncatedSVD\n",
    "from nltk.corpus import movie_reviews, stopwords\n",
    "from nltk.tokenize import sent_tokenize, word_tokenize\n",
    "from imblearn.under_sampling import RandomUnderSampler, ClusterCentroids, NearMiss\n",
    "from imblearn.over_sampling import RandomOverSampler, SMOTE\n",
    "from imblearn.pipeline import Pipeline as iPipeline\n",
    "from nltk.tokenize import word_tokenize\n",
    "from normalise import normalise\n",
    "import warnings\n",
    "import string\n",
    "warnings.filterwarnings('ignore')"
   ]
  },
  {
   "cell_type": "code",
   "execution_count": 7,
   "metadata": {},
   "outputs": [
    {
     "data": {
      "text/plain": [
       "['i',\n",
       " 'me',\n",
       " 'my',\n",
       " 'myself',\n",
       " 'we',\n",
       " 'our',\n",
       " 'ours',\n",
       " 'ourselves',\n",
       " 'you',\n",
       " \"you're\",\n",
       " \"you've\",\n",
       " \"you'll\",\n",
       " \"you'd\",\n",
       " 'your',\n",
       " 'yours',\n",
       " 'yourself',\n",
       " 'yourselves',\n",
       " 'he',\n",
       " 'him',\n",
       " 'his',\n",
       " 'himself',\n",
       " 'she',\n",
       " \"she's\",\n",
       " 'her',\n",
       " 'hers',\n",
       " 'herself',\n",
       " 'it',\n",
       " \"it's\",\n",
       " 'its',\n",
       " 'itself',\n",
       " 'they',\n",
       " 'them',\n",
       " 'their',\n",
       " 'theirs',\n",
       " 'themselves',\n",
       " 'what',\n",
       " 'which',\n",
       " 'who',\n",
       " 'whom',\n",
       " 'this',\n",
       " 'that',\n",
       " \"that'll\",\n",
       " 'these',\n",
       " 'those',\n",
       " 'am',\n",
       " 'is',\n",
       " 'are',\n",
       " 'was',\n",
       " 'were',\n",
       " 'be',\n",
       " 'been',\n",
       " 'being',\n",
       " 'have',\n",
       " 'has',\n",
       " 'had',\n",
       " 'having',\n",
       " 'do',\n",
       " 'does',\n",
       " 'did',\n",
       " 'doing',\n",
       " 'a',\n",
       " 'an',\n",
       " 'the',\n",
       " 'and',\n",
       " 'but',\n",
       " 'if',\n",
       " 'or',\n",
       " 'because',\n",
       " 'as',\n",
       " 'until',\n",
       " 'while',\n",
       " 'of',\n",
       " 'at',\n",
       " 'by',\n",
       " 'for',\n",
       " 'with',\n",
       " 'about',\n",
       " 'against',\n",
       " 'between',\n",
       " 'into',\n",
       " 'through',\n",
       " 'during',\n",
       " 'before',\n",
       " 'after',\n",
       " 'above',\n",
       " 'below',\n",
       " 'to',\n",
       " 'from',\n",
       " 'up',\n",
       " 'down',\n",
       " 'in',\n",
       " 'out',\n",
       " 'on',\n",
       " 'off',\n",
       " 'over',\n",
       " 'under',\n",
       " 'again',\n",
       " 'further',\n",
       " 'then',\n",
       " 'once',\n",
       " 'here',\n",
       " 'there',\n",
       " 'when',\n",
       " 'where',\n",
       " 'why',\n",
       " 'how',\n",
       " 'all',\n",
       " 'any',\n",
       " 'both',\n",
       " 'each',\n",
       " 'few',\n",
       " 'more',\n",
       " 'most',\n",
       " 'other',\n",
       " 'some',\n",
       " 'such',\n",
       " 'no',\n",
       " 'nor',\n",
       " 'not',\n",
       " 'only',\n",
       " 'own',\n",
       " 'same',\n",
       " 'so',\n",
       " 'than',\n",
       " 'too',\n",
       " 'very',\n",
       " 's',\n",
       " 't',\n",
       " 'can',\n",
       " 'will',\n",
       " 'just',\n",
       " 'don',\n",
       " \"don't\",\n",
       " 'should',\n",
       " \"should've\",\n",
       " 'now',\n",
       " 'd',\n",
       " 'll',\n",
       " 'm',\n",
       " 'o',\n",
       " 're',\n",
       " 've',\n",
       " 'y',\n",
       " 'ain',\n",
       " 'aren',\n",
       " \"aren't\",\n",
       " 'couldn',\n",
       " \"couldn't\",\n",
       " 'didn',\n",
       " \"didn't\",\n",
       " 'doesn',\n",
       " \"doesn't\",\n",
       " 'hadn',\n",
       " \"hadn't\",\n",
       " 'hasn',\n",
       " \"hasn't\",\n",
       " 'haven',\n",
       " \"haven't\",\n",
       " 'isn',\n",
       " \"isn't\",\n",
       " 'ma',\n",
       " 'mightn',\n",
       " \"mightn't\",\n",
       " 'mustn',\n",
       " \"mustn't\",\n",
       " 'needn',\n",
       " \"needn't\",\n",
       " 'shan',\n",
       " \"shan't\",\n",
       " 'shouldn',\n",
       " \"shouldn't\",\n",
       " 'wasn',\n",
       " \"wasn't\",\n",
       " 'weren',\n",
       " \"weren't\",\n",
       " 'won',\n",
       " \"won't\",\n",
       " 'wouldn',\n",
       " \"wouldn't\"]"
      ]
     },
     "execution_count": 7,
     "metadata": {},
     "output_type": "execute_result"
    }
   ],
   "source": [
    "stopwords.words('english')"
   ]
  },
  {
   "cell_type": "code",
   "execution_count": 43,
   "metadata": {},
   "outputs": [],
   "source": [
    "data = pd.read_csv('train.csv')"
   ]
  },
  {
   "cell_type": "code",
   "execution_count": 60,
   "metadata": {},
   "outputs": [],
   "source": [
    "data_test = pd.read_csv('test.csv')"
   ]
  },
  {
   "cell_type": "code",
   "execution_count": 10,
   "metadata": {},
   "outputs": [
    {
     "data": {
      "text/html": [
       "<div>\n",
       "<style scoped>\n",
       "    .dataframe tbody tr th:only-of-type {\n",
       "        vertical-align: middle;\n",
       "    }\n",
       "\n",
       "    .dataframe tbody tr th {\n",
       "        vertical-align: top;\n",
       "    }\n",
       "\n",
       "    .dataframe thead th {\n",
       "        text-align: right;\n",
       "    }\n",
       "</style>\n",
       "<table border=\"1\" class=\"dataframe\">\n",
       "  <thead>\n",
       "    <tr style=\"text-align: right;\">\n",
       "      <th></th>\n",
       "      <th>id</th>\n",
       "      <th>dialogue</th>\n",
       "    </tr>\n",
       "  </thead>\n",
       "  <tbody>\n",
       "    <tr>\n",
       "      <th>0</th>\n",
       "      <td>0</td>\n",
       "      <td>Boy! Did you see the way Mama whopped that dep...</td>\n",
       "    </tr>\n",
       "    <tr>\n",
       "      <th>1</th>\n",
       "      <td>1</td>\n",
       "      <td>Gordon, the insurance people are balking on th...</td>\n",
       "    </tr>\n",
       "    <tr>\n",
       "      <th>2</th>\n",
       "      <td>2</td>\n",
       "      <td>Very fancy.  Did you design the bottle? &lt;BR&gt; W...</td>\n",
       "    </tr>\n",
       "    <tr>\n",
       "      <th>3</th>\n",
       "      <td>3</td>\n",
       "      <td>It makes me so mad. Steven Schwimmer ready to ...</td>\n",
       "    </tr>\n",
       "    <tr>\n",
       "      <th>4</th>\n",
       "      <td>4</td>\n",
       "      <td>Something ought to loosen him up ... how comes...</td>\n",
       "    </tr>\n",
       "  </tbody>\n",
       "</table>\n",
       "</div>"
      ],
      "text/plain": [
       "   id                                           dialogue\n",
       "0   0  Boy! Did you see the way Mama whopped that dep...\n",
       "1   1  Gordon, the insurance people are balking on th...\n",
       "2   2  Very fancy.  Did you design the bottle? <BR> W...\n",
       "3   3  It makes me so mad. Steven Schwimmer ready to ...\n",
       "4   4  Something ought to loosen him up ... how comes..."
      ]
     },
     "execution_count": 10,
     "metadata": {},
     "output_type": "execute_result"
    }
   ],
   "source": [
    "data_test.head()"
   ]
  },
  {
   "cell_type": "code",
   "execution_count": 11,
   "metadata": {},
   "outputs": [],
   "source": [
    "unique_genres = set()\n",
    "for genres in data.genres:\n",
    "    genres_f = re.findall(r\"\\w{3,}\", genres)\n",
    "    for genre in genres_f:\n",
    "        unique_genres.add(genre)"
   ]
  },
  {
   "cell_type": "code",
   "execution_count": 12,
   "metadata": {},
   "outputs": [
    {
     "data": {
      "text/plain": [
       "{'action',\n",
       " 'adventure',\n",
       " 'animation',\n",
       " 'biography',\n",
       " 'comedy',\n",
       " 'crime',\n",
       " 'drama',\n",
       " 'family',\n",
       " 'fantasy',\n",
       " 'history',\n",
       " 'horror',\n",
       " 'music',\n",
       " 'musical',\n",
       " 'mystery',\n",
       " 'romance',\n",
       " 'sci',\n",
       " 'sport',\n",
       " 'thriller',\n",
       " 'war',\n",
       " 'western'}"
      ]
     },
     "execution_count": 12,
     "metadata": {},
     "output_type": "execute_result"
    }
   ],
   "source": [
    "unique_genres"
   ]
  },
  {
   "cell_type": "code",
   "execution_count": 13,
   "metadata": {},
   "outputs": [
    {
     "data": {
      "text/html": [
       "<div>\n",
       "<style scoped>\n",
       "    .dataframe tbody tr th:only-of-type {\n",
       "        vertical-align: middle;\n",
       "    }\n",
       "\n",
       "    .dataframe tbody tr th {\n",
       "        vertical-align: top;\n",
       "    }\n",
       "\n",
       "    .dataframe thead th {\n",
       "        text-align: right;\n",
       "    }\n",
       "</style>\n",
       "<table border=\"1\" class=\"dataframe\">\n",
       "  <thead>\n",
       "    <tr style=\"text-align: right;\">\n",
       "      <th></th>\n",
       "      <th>id</th>\n",
       "      <th>movie</th>\n",
       "      <th>dialogue</th>\n",
       "      <th>genres</th>\n",
       "    </tr>\n",
       "  </thead>\n",
       "  <tbody>\n",
       "    <tr>\n",
       "      <th>0</th>\n",
       "      <td>0</td>\n",
       "      <td>0</td>\n",
       "      <td>I thought you were in a meeting--? &lt;BR&gt; I am. ...</td>\n",
       "      <td>[u'drama', u'romance']</td>\n",
       "    </tr>\n",
       "    <tr>\n",
       "      <th>1</th>\n",
       "      <td>1</td>\n",
       "      <td>1</td>\n",
       "      <td>Are you sure you're okay?  You're pale. &lt;BR&gt; I...</td>\n",
       "      <td>[u'drama']</td>\n",
       "    </tr>\n",
       "    <tr>\n",
       "      <th>2</th>\n",
       "      <td>2</td>\n",
       "      <td>2</td>\n",
       "      <td>Go on! Get out! &lt;BR&gt; Mom look don't say anythi...</td>\n",
       "      <td>[u'comedy']</td>\n",
       "    </tr>\n",
       "    <tr>\n",
       "      <th>3</th>\n",
       "      <td>3</td>\n",
       "      <td>3</td>\n",
       "      <td>I could have lost my fucking hands. &lt;BR&gt; That ...</td>\n",
       "      <td>[u'mystery', u'thriller']</td>\n",
       "    </tr>\n",
       "    <tr>\n",
       "      <th>4</th>\n",
       "      <td>4</td>\n",
       "      <td>4</td>\n",
       "      <td>Stick with me on this Gloria.  I need you... &lt;...</td>\n",
       "      <td>[u'crime', u'thriller']</td>\n",
       "    </tr>\n",
       "  </tbody>\n",
       "</table>\n",
       "</div>"
      ],
      "text/plain": [
       "   id  movie                                           dialogue  \\\n",
       "0   0      0  I thought you were in a meeting--? <BR> I am. ...   \n",
       "1   1      1  Are you sure you're okay?  You're pale. <BR> I...   \n",
       "2   2      2  Go on! Get out! <BR> Mom look don't say anythi...   \n",
       "3   3      3  I could have lost my fucking hands. <BR> That ...   \n",
       "4   4      4  Stick with me on this Gloria.  I need you... <...   \n",
       "\n",
       "                      genres  \n",
       "0     [u'drama', u'romance']  \n",
       "1                 [u'drama']  \n",
       "2                [u'comedy']  \n",
       "3  [u'mystery', u'thriller']  \n",
       "4    [u'crime', u'thriller']  "
      ]
     },
     "execution_count": 13,
     "metadata": {},
     "output_type": "execute_result"
    }
   ],
   "source": [
    "data.head()"
   ]
  },
  {
   "cell_type": "code",
   "execution_count": 14,
   "metadata": {},
   "outputs": [],
   "source": [
    "for genre in unique_genres:\n",
    "    data[genre] = data['genres'].apply(lambda x: 1 if genre in x else 0)"
   ]
  },
  {
   "cell_type": "code",
   "execution_count": 33,
   "metadata": {},
   "outputs": [],
   "source": [
    "data.dialogue = data.dialogue.apply(lambda x: re.sub(r'\\d+', '', x))\n",
    "data.dialogue = data.dialogue.apply(lambda x: x.strip())\n",
    "data.dialogue = data.dialogue.apply(lambda x: x.replace('<BR>', ''))\n",
    "#data.dialogue = data.dialogue.apply(lambda x: x.replace('-PRON-', ''))\n",
    "data.dialogue = data.dialogue.apply(lambda x: re.findall(r'\\w+', x))"
   ]
  },
  {
   "cell_type": "code",
   "execution_count": 94,
   "metadata": {},
   "outputs": [],
   "source": [
    "stop_words = stopwords.words('english')\n",
    "def drop_stop_words(tokenized_sentence: list, stop_words: list):\n",
    "    return [t for t in tokenized_sentence if t not in stop_words]\n",
    "\n",
    "def stem(tokenized_sentence: list, stemmer):\n",
    "    return [stemmer.stem(word) for word in tokenized_sentence]\n",
    "def lem(tokenized_sentence: list, wordnet_lemmatizer):\n",
    "    lemmatize_words = np.vectorize(wordnet_lemmatizer.lemmatize)\n",
    "    lemmatized_text = ' '.join(lemmatize_words(tokenized_sentence))\n",
    "    return lemmatized_text"
   ]
  },
  {
   "cell_type": "code",
   "execution_count": 98,
   "metadata": {},
   "outputs": [],
   "source": [
    "wordnet_lemmatizer = WordNetLemmatizer()"
   ]
  },
  {
   "cell_type": "code",
   "execution_count": 17,
   "metadata": {},
   "outputs": [],
   "source": [
    "data.dialogue = data.dialogue.apply(lambda x: drop_stop_words(x, stop_words))"
   ]
  },
  {
   "cell_type": "code",
   "execution_count": 18,
   "metadata": {},
   "outputs": [],
   "source": [
    "sp = spacy.load('en_core_web_sm')\n",
    "stemmer = SnowballStemmer(language='english')"
   ]
  },
  {
   "cell_type": "code",
   "execution_count": 19,
   "metadata": {},
   "outputs": [],
   "source": [
    "data.dialogue = data.dialogue.apply(lambda x: stem(x, stemmer))"
   ]
  },
  {
   "cell_type": "code",
   "execution_count": 20,
   "metadata": {},
   "outputs": [],
   "source": [
    "data.dialogue = data.dialogue.apply(lambda x: lem(x, sp))\n",
    "data_test.dialogue = data_test.dialogue.apply(lambda x: x.replace('-PRON-', ''))"
   ]
  },
  {
   "cell_type": "code",
   "execution_count": 21,
   "metadata": {},
   "outputs": [
    {
     "data": {
      "text/plain": [
       "0                                   i think meet br i with\n",
       "1        be sure okay -PRON- pale br i feel like shit -...\n",
       "2            go get br mom look say anyth first i pregnant\n",
       "3        i could lost fuck hand br that would kept magi...\n",
       "4        stick gloria i need br and tooth suzi -PRON- g...\n",
       "                               ...                        \n",
       "36986    there man downstair -PRON- bring -PRON- egg -P...\n",
       "36987    hi br i prefer speak br i br know noth could s...\n",
       "36988    i tri call i run littl late take long i think ...\n",
       "36989    what crazi br i think talk between br what tal...\n",
       "36990    i uh kill father dominus ominus rememb bind -P...\n",
       "Name: dialogue, Length: 36991, dtype: object"
      ]
     },
     "execution_count": 21,
     "metadata": {},
     "output_type": "execute_result"
    }
   ],
   "source": [
    "data.dialogue"
   ]
  },
  {
   "cell_type": "code",
   "execution_count": 104,
   "metadata": {},
   "outputs": [],
   "source": [
    "#data.dialogue = data.dialogue.apply(lambda x: ' '.join(x))"
   ]
  },
  {
   "cell_type": "code",
   "execution_count": 105,
   "metadata": {},
   "outputs": [],
   "source": [
    "data = pd.read_csv('train.csv')\n",
    "data.dialogue = data.dialogue.apply(lambda x: re.sub(r'\\d+', '', x))\n",
    "data.dialogue = data.dialogue.apply(lambda x: x.strip())\n",
    "data.dialogue = data.dialogue.apply(lambda x: x.replace(r'<BR>', ''))\n",
    "data.dialogue = data.dialogue.apply(lambda x: x.translate(str.maketrans('', '', string.punctuation)))\n",
    "data.dialogue = data.dialogue.apply(lambda x: normalise(word_tokenize(x), verbose=False))\n",
    "data.dialogue = data.dialogue.apply(lambda x: drop_stop_words(x, stop_words))\n",
    "data.dialogue = data.dialogue.apply(lambda x: stem(x, stemmer))\n",
    "data.dialogue = data.dialogue.apply(lambda x: lem(x, wordnet_lemmatizer))"
   ]
  },
  {
   "cell_type": "code",
   "execution_count": 23,
   "metadata": {},
   "outputs": [],
   "source": [
    "def pipe (vectorizer, sampler, classifier):\n",
    "    return(iPipeline([(\"vectorizer\", vectorizer),\n",
    "                      #(\"sampler\", sampler),\n",
    "                            (\"classifier\", classifier)]))"
   ]
  },
  {
   "cell_type": "code",
   "execution_count": 24,
   "metadata": {},
   "outputs": [],
   "source": [
    "tv = TfidfVectorizer()\n",
    "cv = CountVectorizer()\n",
    "svc = LinearSVC()\n",
    "lr = LogisticRegression()\n",
    "sampler = RandomOverSampler()\n",
    "pipe1 = pipe(tv, sampler, lr)"
   ]
  },
  {
   "cell_type": "code",
   "execution_count": 25,
   "metadata": {},
   "outputs": [],
   "source": [
    "data_train, data_hold = train_test_split(data, test_size = 0.2)"
   ]
  },
  {
   "cell_type": "code",
   "execution_count": 26,
   "metadata": {},
   "outputs": [
    {
     "data": {
      "text/plain": [
       "((36991, 24), (29592, 24), (7399, 24))"
      ]
     },
     "execution_count": 26,
     "metadata": {},
     "output_type": "execute_result"
    }
   ],
   "source": [
    "data.shape, data_train.shape, data_hold.shape"
   ]
  },
  {
   "cell_type": "code",
   "execution_count": 27,
   "metadata": {},
   "outputs": [],
   "source": [
    "def pipe (vectorizer, sampler, svd, classifier):\n",
    "    return(iPipeline([(\"vectorizer\", vectorizer),\n",
    "                      #(\"svd\", svd),\n",
    "                      (\"sampler\", sampler),\n",
    "                            (\"classifier\", classifier)]))"
   ]
  },
  {
   "cell_type": "code",
   "execution_count": 28,
   "metadata": {},
   "outputs": [
    {
     "name": "stdout",
     "output_type": "stream",
     "text": [
      "music\n",
      "horror\n",
      "romance\n",
      "history\n",
      "thriller\n",
      "sci\n",
      "war\n",
      "musical\n",
      "crime\n",
      "western\n",
      "sport\n",
      "comedy\n",
      "mystery\n",
      "action\n",
      "family\n",
      "animation\n",
      "fantasy\n",
      "biography\n",
      "drama\n",
      "adventure\n",
      "Wall time: 58.6 s\n"
     ]
    }
   ],
   "source": [
    "%%time\n",
    "#sampler = RandomOverSampler()\n",
    "sampler = SMOTE()\n",
    "cls = LogisticRegression()\n",
    "tv = TfidfVectorizer(min_df=5)\n",
    "svd = TruncatedSVD(n_components=400, n_iter=10)\n",
    "for genre in unique_genres:\n",
    "    pipe1 = pipe(tv, sampler, svd, cls)\n",
    "    pipe1.fit(data_train.dialogue, data_train[genre])\n",
    "    data_hold[f'pred_{genre}'] = pipe1.predict_proba(data_hold['dialogue'])[:, 1]\n",
    "    print(genre)"
   ]
  },
  {
   "cell_type": "code",
   "execution_count": null,
   "metadata": {},
   "outputs": [],
   "source": [
    "thresholds = {}\n",
    "for t in np.arange(0.65, 0.99, 0.03):\n",
    "    max_f = 0\n",
    "    for genre in unique_genres:\n",
    "        data_hold[f'round_{genre}'] = data_hold[f'pred_{genre}'].apply(lambda x: 1 if x > t else 0)\n",
    "    data_hold = get_f_score(data_hold, unique_genres)\n",
    "    mean_f = data_hold['f_score'].mean()\n",
    "    print(f'{t} {mean_f}')\n",
    "    #print(f'{genre} {f1_score(data_hold[genre], data_hold[col])} {precision_score(data_hold[genre], data_hold[col])}')"
   ]
  },
  {
   "cell_type": "code",
   "execution_count": null,
   "metadata": {},
   "outputs": [],
   "source": [
    "def get_singe_score(tmp_list):\n",
    "    tp = tmp_list['tp']\n",
    "    fp = tmp_list['fp']\n",
    "    fn = tmp_list['fn']\n",
    "    p = tp / (tp + fp)\n",
    "    r = tp / (tp + fn)\n",
    "    return 2*p*r / (p+r)"
   ]
  },
  {
   "cell_type": "code",
   "execution_count": null,
   "metadata": {},
   "outputs": [],
   "source": [
    "def get_f_score(data_df, unique_genres):\n",
    "    data = data_df.copy()\n",
    "    data['tp'] = 0\n",
    "    data['fp'] = 0\n",
    "    data['fn'] = 0\n",
    "    for genre in unique_genres:\n",
    "        data['tp'] = data[[genre, f'round_{genre}', 'tp']].apply(lambda x: x[2] + 1 if (x[0] == x[1]) and (x[1]== 1) else x[2], axis=1)\n",
    "        data['fp'] = data[[genre, f'round_{genre}', 'fp']].apply(lambda x: x[2] + 1 if (x[0] == 0) and (x[1] == 1) else x[2], axis=1)\n",
    "        data['fn'] = data[[genre, f'round_{genre}', 'fn']].apply(lambda x: x[2] + 1 if (x[0] == 1) and (x[1] == 0) else x[2], axis=1)\n",
    "    data['f_score'] = data[['tp', 'fp', 'fn']].apply(lambda x: get_singe_score(x), axis=1)\n",
    "    return data"
   ]
  },
  {
   "cell_type": "code",
   "execution_count": null,
   "metadata": {},
   "outputs": [],
   "source": [
    "thresholds"
   ]
  },
  {
   "cell_type": "code",
   "execution_count": null,
   "metadata": {},
   "outputs": [],
   "source": [
    "#pred_genres = ['thriller', 'drama', 'crime', 'fantasy', 'romance', 'action', 'adventure', 'comedy', 'sci']"
   ]
  },
  {
   "cell_type": "code",
   "execution_count": null,
   "metadata": {},
   "outputs": [],
   "source": [
    "%%time\n",
    "data_test = pd.read_csv('test.csv')\n",
    "data_test.dialogue = data_test.dialogue.apply(lambda x: re.sub(r'\\d+', '', x))\n",
    "data_test.dialogue = data_test.dialogue.apply(lambda x: x.strip())\n",
    "data_test.dialogue = data_test.dialogue.apply(lambda x: x.replace(r'<BR>', ''))\n",
    "data_test.dialogue = data_test.dialogue.apply(lambda x: x.translate(str.maketrans('', '', string.punctuation)))\n",
    "data_test.dialogue = data_test.dialogue.apply(lambda x: normalise(word_tokenize(x), verbose=False))\n",
    "data_test.dialogue = data_test.dialogue.apply(lambda x: drop_stop_words(x, stop_words))\n",
    "data_test.dialogue = data_test.dialogue.apply(lambda x: stem(x, stemmer))\n",
    "data_test.dialogue = data_test.dialogue.apply(lambda x: lem(x, wordnet_lemmatizer))"
   ]
  },
  {
   "cell_type": "code",
   "execution_count": 59,
   "metadata": {},
   "outputs": [
    {
     "data": {
      "text/plain": [
       "'text123'"
      ]
     },
     "execution_count": 59,
     "metadata": {},
     "output_type": "execute_result"
    }
   ],
   "source": [
    "'text,123'.translate(str.maketrans('', '', string.punctuation))"
   ]
  },
  {
   "cell_type": "code",
   "execution_count": 39,
   "metadata": {},
   "outputs": [
    {
     "data": {
      "text/plain": [
       "0                            [i, think, meet, br, i, with]\n",
       "1        [be, sure, okay, PRON, pale, br, i, feel, like...\n",
       "2        [go, get, br, mom, look, say, anyth, first, i,...\n",
       "3        [i, could, lost, fuck, hand, br, that, would, ...\n",
       "4        [stick, gloria, i, need, br, and, tooth, suzi,...\n",
       "                               ...                        \n",
       "36986    [there, man, downstair, PRON, bring, PRON, egg...\n",
       "36987    [hi, br, i, prefer, speak, br, i, br, know, no...\n",
       "36988    [i, tri, call, i, run, littl, late, take, long...\n",
       "36989    [what, crazi, br, i, think, talk, between, br,...\n",
       "36990    [i, uh, kill, father, dominus, ominus, rememb,...\n",
       "Name: dialogue, Length: 36991, dtype: object"
      ]
     },
     "execution_count": 39,
     "metadata": {},
     "output_type": "execute_result"
    }
   ],
   "source": [
    "data.dialogue"
   ]
  },
  {
   "cell_type": "code",
   "execution_count": null,
   "metadata": {},
   "outputs": [],
   "source": [
    "%%time\n",
    "sampler = SMOTE()\n",
    "cls = LogisticRegression()\n",
    "tv = TfidfVectorizer(min_df=5)\n",
    "svd = TruncatedSVD(n_components=400, n_iter=10)\n",
    "for genre in unique_genres:\n",
    "    pipe1 = pipe(tv, sampler, svd, cls)\n",
    "    pipe1.fit(data['dialogue'], data[genre])\n",
    "    data_test[f'pred_{genre}'] = pipe1.predict_proba(data_test['dialogue'])[:, 1]\n",
    "    data_test[genre] = data_test[f'pred_{genre}'].apply(lambda x: 1 if x > 0.8 else 0)"
   ]
  },
  {
   "cell_type": "code",
   "execution_count": null,
   "metadata": {},
   "outputs": [],
   "source": [
    "def get_final_result(predicts, unique_genres):\n",
    "    ans = ''\n",
    "    for i in range(len(unique_genres)):\n",
    "        if predicts[i] == 1:\n",
    "            ans = ans + ' ' + unique_genres[i]\n",
    "    if ans == '':\n",
    "        print('hi')\n",
    "        return 'drama thriller'\n",
    "    else:\n",
    "        return ans[1:]"
   ]
  },
  {
   "cell_type": "code",
   "execution_count": null,
   "metadata": {},
   "outputs": [],
   "source": [
    "data_test['genres'] = data[list(unique_genres)].apply(lambda x: get_final_result(x.tolist(), list(unique_genres)), axis=1)"
   ]
  },
  {
   "cell_type": "code",
   "execution_count": null,
   "metadata": {},
   "outputs": [],
   "source": [
    "data_test[['id', 'genres']].to_csv('sub1_11_1.csv', index=False)"
   ]
  },
  {
   "cell_type": "code",
   "execution_count": null,
   "metadata": {},
   "outputs": [],
   "source": [
    "data_test[['dialogue', 'genres']]"
   ]
  },
  {
   "cell_type": "code",
   "execution_count": null,
   "metadata": {},
   "outputs": [],
   "source": [
    "import csv"
   ]
  },
  {
   "cell_type": "code",
   "execution_count": null,
   "metadata": {},
   "outputs": [],
   "source": [
    "data_test[possible_genres]"
   ]
  },
  {
   "cell_type": "code",
   "execution_count": null,
   "metadata": {},
   "outputs": [],
   "source": []
  },
  {
   "cell_type": "code",
   "execution_count": null,
   "metadata": {},
   "outputs": [],
   "source": []
  }
 ],
 "metadata": {
  "kernelspec": {
   "display_name": "Python 3",
   "language": "python",
   "name": "python3"
  },
  "language_info": {
   "codemirror_mode": {
    "name": "ipython",
    "version": 3
   },
   "file_extension": ".py",
   "mimetype": "text/x-python",
   "name": "python",
   "nbconvert_exporter": "python",
   "pygments_lexer": "ipython3",
   "version": "3.7.3"
  }
 },
 "nbformat": 4,
 "nbformat_minor": 4
}
